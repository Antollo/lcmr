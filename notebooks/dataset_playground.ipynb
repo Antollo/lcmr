{
 "cells": [
  {
   "cell_type": "code",
   "execution_count": 1,
   "metadata": {},
   "outputs": [
    {
     "data": {
      "text/html": [
       "\n",
       "            <style>\n",
       "            .cell-output-ipywidget-background {\n",
       "                background-color: transparent !important;\n",
       "            }\n",
       "            :root {\n",
       "                --jp-widgets-color: var(--vscode-editor-foreground);\n",
       "                --jp-widgets-font-size: var(--vscode-editor-font-size);\n",
       "            }  \n",
       "            </style>\n",
       "            "
      ],
      "text/plain": [
       "<IPython.core.display.HTML object>"
      ]
     },
     "metadata": {},
     "output_type": "display_data"
    }
   ],
   "source": [
    "from torch.utils.data import DataLoader\n",
    "\n",
    "from lcmr.dataset import DatasetOptions, EfdGeneratorOptions, RandomDataset\n",
    "from lcmr.utils.colors import colors\n",
    "from lcmr.utils.presentation import display_img\n",
    "\n",
    "efd_options = EfdGeneratorOptions(order=4)\n",
    "options = DatasetOptions(n_objects=2, n_samples=8, background_color=colors.darkslategray, efd_options=efd_options, n_jobs=2)\n",
    "dataset = RandomDataset(options)\n",
    "dataloader = DataLoader(dataset, batch_size=4, shuffle=True, drop_last=True, collate_fn=RandomDataset.collate_fn)"
   ]
  },
  {
   "cell_type": "code",
   "execution_count": 2,
   "metadata": {},
   "outputs": [
    {
     "data": {
      "image/png": "[encoded data removed]",
      "text/plain": [
       "<PIL.Image.Image image mode=RGBA size=128x128>"
      ]
     },
     "metadata": {},
     "output_type": "display_data"
    }
   ],
   "source": [
    "img, scene = dataset[0]\n",
    "display_img(img[0])"
   ]
  },
  {
   "cell_type": "code",
   "execution_count": 3,
   "metadata": {},
   "outputs": [
    {
     "name": "stdout",
     "output_type": "stream",
     "text": [
      "torch.Size([4, 128, 128, 3])\n",
      "torch.Size([4, 2048, 4, 4])\n",
      "torch.Size([4, 128, 128, 3])\n",
      "torch.Size([4, 2048, 4, 4])\n"
     ]
    }
   ],
   "source": [
    "from lcmr.encoder import ResNet50Encoder\n",
    "\n",
    "encoder = ResNet50Encoder()\n",
    "\n",
    "for img, scene in dataloader:\n",
    "    print(img.shape)\n",
    "    print(encoder(img).shape)"
   ]
  }
 ],
 "metadata": {
  "kernelspec": {
   "display_name": "Python 3",
   "language": "python",
   "name": "python3"
  },
  "language_info": {
   "codemirror_mode": {
    "name": "ipython",
    "version": 3
   },
   "file_extension": ".py",
   "mimetype": "text/x-python",
   "name": "python",
   "nbconvert_exporter": "python",
   "pygments_lexer": "ipython3",
   "version": "3.10.12"
  }
 },
 "nbformat": 4,
 "nbformat_minor": 2
}
