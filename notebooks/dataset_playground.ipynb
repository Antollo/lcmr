{
 "cells": [
  {
   "cell_type": "code",
   "execution_count": null,
   "metadata": {},
   "outputs": [],
   "source": [
    "from torch.utils.data import DataLoader\n",
    "from lcmr.dataset import DatasetOptions, RandomDataset\n",
    "from lcmr.utils.presentation import display_img\n",
    "from lcmr.utils.colors import colors\n",
    "\n",
    "options = DatasetOptions(n_objects=2, n_samples=8, background_color=colors.darkslategray)\n",
    "dataset = RandomDataset(options)\n",
    "dataloader = DataLoader(dataset, batch_size=4, shuffle=True, drop_last=True, collate_fn=RandomDataset.collate_fn)"
   ]
  },
  {
   "cell_type": "code",
   "execution_count": null,
   "metadata": {},
   "outputs": [],
   "source": [
    "img, scene = dataset[0]\n",
    "display_img(img[0])"
   ]
  },
  {
   "cell_type": "code",
   "execution_count": null,
   "metadata": {},
   "outputs": [],
   "source": [
    "from lcmr.encoder import ResNet50Encoder\n",
    "\n",
    "encoder = ResNet50Encoder()\n",
    "\n",
    "for img, scene in dataloader:\n",
    "    print(img.shape)\n",
    "    print(encoder(img).shape)"
   ]
  }
 ],
 "metadata": {
  "kernelspec": {
   "display_name": "Python 3",
   "language": "python",
   "name": "python3"
  },
  "language_info": {
   "codemirror_mode": {
    "name": "ipython",
    "version": 3
   },
   "file_extension": ".py",
   "mimetype": "text/x-python",
   "name": "python",
   "nbconvert_exporter": "python",
   "pygments_lexer": "ipython3",
   "version": "3.10.12"
  }
 },
 "nbformat": 4,
 "nbformat_minor": 2
}
