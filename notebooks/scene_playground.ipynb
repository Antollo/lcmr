{
 "cells": [
  {
   "cell_type": "code",
   "execution_count": null,
   "metadata": {},
   "outputs": [],
   "source": [
    "import torch\n",
    "import numpy as np\n",
    "from lcmr.grammar import Scene, Layer, Object, Appearance\n",
    "from lcmr.grammar.transformations import Affine\n",
    "from lcmr.renderer import OpenGLRenderer2D\n",
    "from lcmr.utils.presentation import display_img"
   ]
  },
  {
   "cell_type": "code",
   "execution_count": null,
   "metadata": {},
   "outputs": [],
   "source": [
    "scene = Scene(\n",
    "    batch_size=[3],\n",
    "    layer=Layer(\n",
    "        batch_size=[3, 2],\n",
    "        object=Object(\n",
    "            batch_size=[3, 2, 4],\n",
    "            objectShape=torch.ones(3, 2, 4, 1, dtype=torch.uint8),\n",
    "            transformation=Affine(batch_size=[3, 2, 4], matrix=torch.ones(3, 2, 4, 3, 3)),\n",
    "            appearance=Appearance(batch_size=[3, 2, 4], confidence=torch.ones(3, 2, 4, 1), color=torch.ones(3, 2, 4, 3)),\n",
    "        ),\n",
    "        scale=torch.ones(3, 2, 1),\n",
    "        composition=torch.ones(3, 2, 1, dtype=torch.uint8),\n",
    "    ),\n",
    ")\n",
    "\n",
    "\n",
    "scene"
   ]
  },
  {
   "cell_type": "code",
   "execution_count": null,
   "metadata": {},
   "outputs": [],
   "source": [
    "from kornia.geometry.transform import get_affine_matrix2d\n",
    "\n",
    "\n",
    "def create_scene(batch_len: int, layer_len: int, object_len: int, translation=None, scale=None, angle=None, color=None, confidence=None) -> Scene:\n",
    "    total_objects = batch_len * layer_len * object_len\n",
    "\n",
    "    if translation == None:\n",
    "        translation = torch.rand(total_objects, 2)\n",
    "    if scale == None:\n",
    "        scale = torch.rand(total_objects, 2)\n",
    "    if angle == None:\n",
    "        angle = torch.rand(total_objects, 1)\n",
    "    if color == None:\n",
    "        color = torch.rand(total_objects, 3)\n",
    "    color = color.reshape(batch_len, layer_len, object_len, 3)\n",
    "    if confidence == None:\n",
    "        confidence = torch.rand(total_objects, 1)\n",
    "    confidence = confidence.reshape(batch_len, layer_len, object_len, 1)\n",
    "\n",
    "    center = torch.zeros(total_objects, 2)\n",
    "    transformation = get_affine_matrix2d(translation, center, scale, angle.reshape(-1) * 360).reshape(batch_len, layer_len, object_len, 3, 3)\n",
    "\n",
    "    scene = Scene(\n",
    "        batch_size=[batch_len],\n",
    "        layer=Layer(\n",
    "            batch_size=[batch_len, layer_len],\n",
    "            object=Object(\n",
    "                batch_size=[batch_len, layer_len, object_len],\n",
    "                objectShape=torch.ones(batch_len, layer_len, object_len, 1, dtype=torch.uint8),\n",
    "                transformation=Affine(batch_size=[batch_len, layer_len, object_len], matrix=transformation),\n",
    "                appearance=Appearance(batch_size=[batch_len, layer_len, object_len], confidence=confidence, color=color),\n",
    "            ),\n",
    "            scale=torch.ones(batch_len, layer_len, 1),\n",
    "            composition=torch.ones(batch_len, layer_len, 1, dtype=torch.uint8),\n",
    "        ),\n",
    "    )\n",
    "\n",
    "    return scene"
   ]
  },
  {
   "cell_type": "code",
   "execution_count": null,
   "metadata": {},
   "outputs": [],
   "source": [
    "renderer = OpenGLRenderer2D((200, 200), gamma_rgb=1.2, gamma_confidence=2.5)"
   ]
  },
  {
   "cell_type": "code",
   "execution_count": null,
   "metadata": {},
   "outputs": [],
   "source": [
    "translation = torch.tensor([[0, 0.], [0, 1], [1, 0]], dtype=torch.float32)[None, None, ...]\n",
    "color = torch.tensor([[0.9, 0, 0], [0, 0.9, 0], [0, 0, 0.9]], dtype=torch.float32)[None, None, ...]\n",
    "scale = torch.tensor([[0.1, 0.5], [0.1, 0.1], [0.2, 0.2]])[None, None, ...]\n",
    "confidence = torch.tensor([[0.9], [0.5], [0.2]])[None, None, ...]\n",
    "angle = torch.tensor([[-np.pi/4], [0], [0]], dtype=torch.float32)[None, None, ...]\n",
    "scene = Scene.from_tensors(translation=translation, scale=scale, color=color, confidence=confidence, angle=angle)\n",
    "\n",
    "renderer = OpenGLRenderer2D((200, 200), gamma_rgb=1.2, gamma_confidence=2.5)\n",
    "img = renderer.render(scene)\n",
    "display_img(img[0])"
   ]
  }
 ],
 "metadata": {
  "kernelspec": {
   "display_name": "Python 3",
   "language": "python",
   "name": "python3"
  },
  "language_info": {
   "codemirror_mode": {
    "name": "ipython",
    "version": 3
   },
   "file_extension": ".py",
   "mimetype": "text/x-python",
   "name": "python",
   "nbconvert_exporter": "python",
   "pygments_lexer": "ipython3",
   "version": "3.9.13"
  }
 },
 "nbformat": 4,
 "nbformat_minor": 2
}
