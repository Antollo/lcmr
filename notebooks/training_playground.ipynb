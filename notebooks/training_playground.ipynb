{
 "cells": [
  {
   "cell_type": "code",
   "execution_count": null,
   "metadata": {},
   "outputs": [],
   "source": [
    "import torch\n",
    "from torch.utils.data import DataLoader\n",
    "from lcmr.dataset import DatasetOptions, RandomDataset\n",
    "from lcmr.utils.presentation import display_img, make_img_grid\n",
    "from lcmr.utils.colors import colors\n",
    "\n",
    "device = torch.device(\"cuda:0\") if torch.cuda.is_available() else torch.device(\"cpu\")\n",
    "raster_size = (128, 128)\n",
    "\n",
    "options = DatasetOptions(\n",
    "    raster_size=raster_size, n_objects=1, n_samples=1024, return_scenes=False, background_color=colors.black, n_jobs=4, renderer_device=device\n",
    ")\n",
    "dataset = RandomDataset(options)\n",
    "dataloader = DataLoader(dataset, batch_size=128, shuffle=True, drop_last=True, collate_fn=RandomDataset.collate_fn)"
   ]
  },
  {
   "cell_type": "code",
   "execution_count": null,
   "metadata": {},
   "outputs": [],
   "source": [
    "from lcmr.reconstruction_model import ReconstructionModel\n",
    "from lcmr.encoder import ResNet50Encoder\n",
    "from lcmr.modeler import DummyModeler\n",
    "from lcmr.renderer.renderer2d import PyTorch3DRenderer2D\n",
    "\n",
    "encoder = ResNet50Encoder().to(device)\n",
    "renderer = PyTorch3DRenderer2D(raster_size, background_color=colors.black, device=device, n_verts=32, faces_per_pixel=4)\n",
    "modeler = DummyModeler(encoder_feature_dim=2048, hidden_dim=128).to(device)\n",
    "\n",
    "model = ReconstructionModel(encoder, modeler, renderer)"
   ]
  },
  {
   "cell_type": "code",
   "execution_count": null,
   "metadata": {},
   "outputs": [],
   "source": [
    "import numpy as np\n",
    "from tqdm.notebook import tqdm\n",
    "from torch.utils.tensorboard import SummaryWriter\n",
    "\n",
    "logdir = \"./runs/experiment_1\"\n",
    "writer = SummaryWriter(logdir)\n",
    "\n",
    "epochs = 201\n",
    "show_step = 10\n",
    "lr = 0.00002\n",
    "\n",
    "optimizer = torch.optim.Adam(list(modeler.parameters()), lr=lr)\n",
    "\n",
    "batch_len = dataloader.batch_size\n",
    "\n",
    "for epoch in (bar := tqdm(range(epochs))):\n",
    "    losses = []\n",
    "    for j, target_img in enumerate(dataloader):\n",
    "        optimizer.zero_grad()\n",
    "\n",
    "        target_img = target_img.to(device)\n",
    "\n",
    "        pred_scene, pred_img = model(target_img)\n",
    "        pred_img = pred_img[..., :3]\n",
    "\n",
    "        loss = (target_img - pred_img).pow(2).mean()\n",
    "\n",
    "        losses.append(loss.detach().cpu().item())\n",
    "\n",
    "        loss.backward()\n",
    "        optimizer.step()\n",
    "\n",
    "        with torch.no_grad():\n",
    "            bar.set_description(f\"loss: {np.mean(losses):.4f}\")\n",
    "            if epoch % show_step == 0 and j == 0:\n",
    "                img_grid = make_img_grid((pred_img[:8], target_img[:8]))\n",
    "                writer.add_image(\"visualization\", img_grid.permute(2, 0, 1), epoch)\n",
    "                display_img(img_grid)\n",
    "\n",
    "    dataset.regenerate()\n",
    "\n",
    "    writer.add_scalar(\"training loss\", np.mean(losses), epoch)\n",
    "\n",
    "torch.save(modeler, f\"{logdir}/model.pt\")\n",
    "writer.close()"
   ]
  }
 ],
 "metadata": {
  "kernelspec": {
   "display_name": "Python 3",
   "language": "python",
   "name": "python3"
  },
  "language_info": {
   "codemirror_mode": {
    "name": "ipython",
    "version": 3
   },
   "file_extension": ".py",
   "mimetype": "text/x-python",
   "name": "python",
   "nbconvert_exporter": "python",
   "pygments_lexer": "ipython3",
   "version": "3.10.12"
  }
 },
 "nbformat": 4,
 "nbformat_minor": 2
}
