{
 "cells": [
  {
   "cell_type": "markdown",
   "metadata": {},
   "source": [
    "## Test PyTorch and dataclasses integration\n",
    "\n",
    "Sources:\n",
    "* [How to use dataclass with PyTorch](https://discuss.pytorch.org/t/how-to-use-dataclass-with-pytorch/53444)\n",
    "* [Subclassing torch.Tensor](https://discuss.pytorch.org/t/subclassing-torch-tensor/23754)"
   ]
  },
  {
   "cell_type": "code",
   "execution_count": 115,
   "metadata": {},
   "outputs": [
    {
     "data": {
      "text/plain": [
       "device(type='mps')"
      ]
     },
     "execution_count": 115,
     "metadata": {},
     "output_type": "execute_result"
    }
   ],
   "source": [
    "import torch\n",
    "from dataclasses import dataclass, field\n",
    "\n",
    "if torch.cuda.is_available():\n",
    "    DEVICE = torch.device('cuda')\n",
    "elif torch.backends.mps.is_available():\n",
    "    DEVICE = torch.device('mps')\n",
    "else:\n",
    "    DEVICE = torch.device('cpu')\n",
    "\n",
    "DEVICE"
   ]
  },
  {
   "cell_type": "markdown",
   "metadata": {},
   "source": [
    "### Scenario #1 – no subclassing, class stores tensors\n",
    "* Possible, no errors thrown when annotating using `torch.Tensor`\n",
    "* Any extra parameters (e.g., `dtype`, `device`) for `tensor` object have to be set either when initialising class instance or in `__post_init__` method"
   ]
  },
  {
   "cell_type": "code",
   "execution_count": 116,
   "metadata": {},
   "outputs": [
    {
     "data": {
      "text/plain": [
       "A(tensor=tensor([[1., 1., 1.],\n",
       "        [1., 1., 1.],\n",
       "        [1., 1., 1.]], device='mps:0', dtype=torch.float16), dtype=torch.float16, param=1)"
      ]
     },
     "execution_count": 116,
     "metadata": {},
     "output_type": "execute_result"
    }
   ],
   "source": [
    "@dataclass\n",
    "class A:\n",
    "    tensor: torch.Tensor\n",
    "    dtype: torch.dtype\n",
    "    param: int\n",
    "\n",
    "    def __post_init__(self):\n",
    "        self.tensor = self.tensor.to(device=DEVICE, dtype=self.dtype)\n",
    "\n",
    "a = A(torch.ones((3, 3)), dtype=torch.float16, param=1)\n",
    "a"
   ]
  },
  {
   "cell_type": "markdown",
   "metadata": {},
   "source": [
    "### Scenario #2 – subclassing `torch.Tensor`\n",
    "* Doesn't easily work, even setting default values of parameters and using `__new__` to initialise `torch.Tensor` parent class, `dataclass` doesn't automatically allow to instantiate a tensor and throws `RecursionError` for some reason\n",
    "* Could be dangerous, `dataclass` automatically generates some methods (e.g., `__init__`, `__eq__`), which might break functionality of a subclass. This could be turned off using `@dataclass(eg=False)`"
   ]
  },
  {
   "cell_type": "code",
   "execution_count": 117,
   "metadata": {},
   "outputs": [
    {
     "ename": "RecursionError",
     "evalue": "maximum recursion depth exceeded",
     "output_type": "error",
     "traceback": [
      "\u001b[0;31m---------------------------------------------------------------------------\u001b[0m",
      "\u001b[0;31mRecursionError\u001b[0m                            Traceback (most recent call last)",
      "File \u001b[0;32m~/mambaforge/envs/torch/lib/python3.11/site-packages/IPython/core/formatters.py:708\u001b[0m, in \u001b[0;36mPlainTextFormatter.__call__\u001b[0;34m(self, obj)\u001b[0m\n\u001b[1;32m    701\u001b[0m stream \u001b[39m=\u001b[39m StringIO()\n\u001b[1;32m    702\u001b[0m printer \u001b[39m=\u001b[39m pretty\u001b[39m.\u001b[39mRepresentationPrinter(stream, \u001b[39mself\u001b[39m\u001b[39m.\u001b[39mverbose,\n\u001b[1;32m    703\u001b[0m     \u001b[39mself\u001b[39m\u001b[39m.\u001b[39mmax_width, \u001b[39mself\u001b[39m\u001b[39m.\u001b[39mnewline,\n\u001b[1;32m    704\u001b[0m     max_seq_length\u001b[39m=\u001b[39m\u001b[39mself\u001b[39m\u001b[39m.\u001b[39mmax_seq_length,\n\u001b[1;32m    705\u001b[0m     singleton_pprinters\u001b[39m=\u001b[39m\u001b[39mself\u001b[39m\u001b[39m.\u001b[39msingleton_printers,\n\u001b[1;32m    706\u001b[0m     type_pprinters\u001b[39m=\u001b[39m\u001b[39mself\u001b[39m\u001b[39m.\u001b[39mtype_printers,\n\u001b[1;32m    707\u001b[0m     deferred_pprinters\u001b[39m=\u001b[39m\u001b[39mself\u001b[39m\u001b[39m.\u001b[39mdeferred_printers)\n\u001b[0;32m--> 708\u001b[0m printer\u001b[39m.\u001b[39;49mpretty(obj)\n\u001b[1;32m    709\u001b[0m printer\u001b[39m.\u001b[39mflush()\n\u001b[1;32m    710\u001b[0m \u001b[39mreturn\u001b[39;00m stream\u001b[39m.\u001b[39mgetvalue()\n",
      "File \u001b[0;32m~/mambaforge/envs/torch/lib/python3.11/site-packages/IPython/lib/pretty.py:410\u001b[0m, in \u001b[0;36mRepresentationPrinter.pretty\u001b[0;34m(self, obj)\u001b[0m\n\u001b[1;32m    407\u001b[0m                         \u001b[39mreturn\u001b[39;00m meth(obj, \u001b[39mself\u001b[39m, cycle)\n\u001b[1;32m    408\u001b[0m                 \u001b[39mif\u001b[39;00m \u001b[39mcls\u001b[39m \u001b[39mis\u001b[39;00m \u001b[39mnot\u001b[39;00m \u001b[39mobject\u001b[39m \\\n\u001b[1;32m    409\u001b[0m                         \u001b[39mand\u001b[39;00m \u001b[39mcallable\u001b[39m(\u001b[39mcls\u001b[39m\u001b[39m.\u001b[39m\u001b[39m__dict__\u001b[39m\u001b[39m.\u001b[39mget(\u001b[39m'\u001b[39m\u001b[39m__repr__\u001b[39m\u001b[39m'\u001b[39m)):\n\u001b[0;32m--> 410\u001b[0m                     \u001b[39mreturn\u001b[39;00m _repr_pprint(obj, \u001b[39mself\u001b[39;49m, cycle)\n\u001b[1;32m    412\u001b[0m     \u001b[39mreturn\u001b[39;00m _default_pprint(obj, \u001b[39mself\u001b[39m, cycle)\n\u001b[1;32m    413\u001b[0m \u001b[39mfinally\u001b[39;00m:\n",
      "File \u001b[0;32m~/mambaforge/envs/torch/lib/python3.11/site-packages/IPython/lib/pretty.py:778\u001b[0m, in \u001b[0;36m_repr_pprint\u001b[0;34m(obj, p, cycle)\u001b[0m\n\u001b[1;32m    776\u001b[0m \u001b[39m\u001b[39m\u001b[39m\"\"\"A pprint that just redirects to the normal repr function.\"\"\"\u001b[39;00m\n\u001b[1;32m    777\u001b[0m \u001b[39m# Find newlines and replace them with p.break_()\u001b[39;00m\n\u001b[0;32m--> 778\u001b[0m output \u001b[39m=\u001b[39m \u001b[39mrepr\u001b[39m(obj)\n\u001b[1;32m    779\u001b[0m lines \u001b[39m=\u001b[39m output\u001b[39m.\u001b[39msplitlines()\n\u001b[1;32m    780\u001b[0m \u001b[39mwith\u001b[39;00m p\u001b[39m.\u001b[39mgroup():\n",
      "File \u001b[0;32m~/mambaforge/envs/torch/lib/python3.11/dataclasses.py:240\u001b[0m, in \u001b[0;36m_recursive_repr.<locals>.wrapper\u001b[0;34m(self)\u001b[0m\n\u001b[1;32m    238\u001b[0m repr_running\u001b[39m.\u001b[39madd(key)\n\u001b[1;32m    239\u001b[0m \u001b[39mtry\u001b[39;00m:\n\u001b[0;32m--> 240\u001b[0m     result \u001b[39m=\u001b[39m user_function(\u001b[39mself\u001b[39;49m)\n\u001b[1;32m    241\u001b[0m \u001b[39mfinally\u001b[39;00m:\n\u001b[1;32m    242\u001b[0m     repr_running\u001b[39m.\u001b[39mdiscard(key)\n",
      "File \u001b[0;32m<string>:3\u001b[0m, in \u001b[0;36m__repr__\u001b[0;34m(self)\u001b[0m\n",
      "File \u001b[0;32m~/mambaforge/envs/torch/lib/python3.11/dataclasses.py:240\u001b[0m, in \u001b[0;36m_recursive_repr.<locals>.wrapper\u001b[0;34m(self)\u001b[0m\n\u001b[1;32m    238\u001b[0m repr_running\u001b[39m.\u001b[39madd(key)\n\u001b[1;32m    239\u001b[0m \u001b[39mtry\u001b[39;00m:\n\u001b[0;32m--> 240\u001b[0m     result \u001b[39m=\u001b[39m user_function(\u001b[39mself\u001b[39;49m)\n\u001b[1;32m    241\u001b[0m \u001b[39mfinally\u001b[39;00m:\n\u001b[1;32m    242\u001b[0m     repr_running\u001b[39m.\u001b[39mdiscard(key)\n",
      "File \u001b[0;32m<string>:3\u001b[0m, in \u001b[0;36m__repr__\u001b[0;34m(self)\u001b[0m\n",
      "    \u001b[0;31m[... skipping similar frames: __repr__ at line 3 (984 times), _recursive_repr.<locals>.wrapper at line 240 (984 times)]\u001b[0m\n",
      "File \u001b[0;32m~/mambaforge/envs/torch/lib/python3.11/dataclasses.py:240\u001b[0m, in \u001b[0;36m_recursive_repr.<locals>.wrapper\u001b[0;34m(self)\u001b[0m\n\u001b[1;32m    238\u001b[0m repr_running\u001b[39m.\u001b[39madd(key)\n\u001b[1;32m    239\u001b[0m \u001b[39mtry\u001b[39;00m:\n\u001b[0;32m--> 240\u001b[0m     result \u001b[39m=\u001b[39m user_function(\u001b[39mself\u001b[39;49m)\n\u001b[1;32m    241\u001b[0m \u001b[39mfinally\u001b[39;00m:\n\u001b[1;32m    242\u001b[0m     repr_running\u001b[39m.\u001b[39mdiscard(key)\n",
      "File \u001b[0;32m<string>:3\u001b[0m, in \u001b[0;36m__repr__\u001b[0;34m(self)\u001b[0m\n",
      "File \u001b[0;32m~/mambaforge/envs/torch/lib/python3.11/site-packages/torch/_tensor.py:1397\u001b[0m, in \u001b[0;36mTensor.__torch_function__\u001b[0;34m(cls, func, types, args, kwargs)\u001b[0m\n\u001b[1;32m   1394\u001b[0m \u001b[39mif\u001b[39;00m kwargs \u001b[39mis\u001b[39;00m \u001b[39mNone\u001b[39;00m:\n\u001b[1;32m   1395\u001b[0m     kwargs \u001b[39m=\u001b[39m {}\n\u001b[0;32m-> 1397\u001b[0m \u001b[39mif\u001b[39;00m \u001b[39mnot\u001b[39;00m \u001b[39mall\u001b[39m(\u001b[39missubclass\u001b[39m(\u001b[39mcls\u001b[39m, t) \u001b[39mfor\u001b[39;00m t \u001b[39min\u001b[39;00m types):\n\u001b[1;32m   1398\u001b[0m     \u001b[39mreturn\u001b[39;00m \u001b[39mNotImplemented\u001b[39m\n\u001b[1;32m   1400\u001b[0m \u001b[39mwith\u001b[39;00m _C\u001b[39m.\u001b[39mDisableTorchFunctionSubclass():\n",
      "\u001b[0;31mRecursionError\u001b[0m: maximum recursion depth exceeded"
     ]
    }
   ],
   "source": [
    "@dataclass(eq=False)\n",
    "class B(torch.Tensor):\n",
    "    data: torch.Tensor = field(default_factory=torch.tensor)\n",
    "    param: int = 1\n",
    "\n",
    "    @staticmethod\n",
    "    def __new__(cls, data, param, *args, **kwargs):\n",
    "        return super().__new__(cls, data, *args, **kwargs)\n",
    "\n",
    "b = B(torch.ones((3, 3)), 1)\n",
    "b"
   ]
  },
  {
   "cell_type": "markdown",
   "metadata": {},
   "source": [
    "### Scenario #2 – subclassing `torch.nn.module`\n",
    "* Code example from [How to use dataclass with PyTorch](https://discuss.pytorch.org/t/how-to-use-dataclass-with-pytorch/53444)\n",
    "* Seems to work, requires usage of `__new__` to initialise parent class and `__post_init__` to initalise layers\n",
    "* Additionally `unsafe_hash=True` is required (`torch.nn.Module` needs a `__hash__` function)\n",
    "* Could lead to further problems, one of the comments in the source mentions problems with transfering weights to the gpu, which might be resolved with `@dataclass(eq=False)` (not generating `__eq__` method)"
   ]
  },
  {
   "cell_type": "code",
   "execution_count": null,
   "metadata": {},
   "outputs": [],
   "source": [
    "@dataclass\n",
    "class DataclassModule(torch.nn.Module):\n",
    "    def __new__(cls, *args, **k):\n",
    "        inst = super().__new__(cls)\n",
    "        torch.nn.Module.__init__(inst)\n",
    "        return inst\n",
    "\n",
    "@dataclass(unsafe_hash=True)\n",
    "class Net(DataclassModule):\n",
    "    other_layer: torch.nn.Module\n",
    "    input_feats: int = 10\n",
    "    output_feats: int = 20\n",
    "\n",
    "    def __post_init__(self):\n",
    "        self.layer = torch.nn.Linear(self.input_feats, self.output_feats)\n",
    "\n",
    "    def forward(self, x):\n",
    "        return self.layer(self.other_layer(x))\n",
    "\n",
    "net = Net(other_layer=torch.nn.Linear(10, 10))\n",
    "assert net(torch.tensor([1.]*10)).shape == (20,)\n",
    "assert len(list(net.parameters())) == 4\n",
    "\n",
    "@dataclass(unsafe_hash=True)\n",
    "class A(DataclassModule):\n",
    "    x: int\n",
    "    def __post_init__(self):\n",
    "        self.layer1 = torch.nn.Linear(self.x, self.x)\n",
    "\n",
    "@dataclass(unsafe_hash=True)\n",
    "class B(A):\n",
    "    y: int\n",
    "    def __post_init__(self):\n",
    "        super().__post_init__()\n",
    "        self.layer2 = torch.nn.Linear(self.y, self.y)\n",
    "\n",
    "assert len(list(A(1).parameters())) == 2\n",
    "assert len(list(B(1, 2).parameters())) == 4"
   ]
  }
 ],
 "metadata": {
  "kernelspec": {
   "display_name": "torch",
   "language": "python",
   "name": "python3"
  },
  "language_info": {
   "codemirror_mode": {
    "name": "ipython",
    "version": 3
   },
   "file_extension": ".py",
   "mimetype": "text/x-python",
   "name": "python",
   "nbconvert_exporter": "python",
   "pygments_lexer": "ipython3",
   "version": "3.11.6"
  }
 },
 "nbformat": 4,
 "nbformat_minor": 2
}
